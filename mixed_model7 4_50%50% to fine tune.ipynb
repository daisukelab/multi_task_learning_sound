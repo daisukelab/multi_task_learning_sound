{
 "cells": [
  {
   "cell_type": "code",
   "execution_count": 1,
   "metadata": {},
   "outputs": [
    {
     "name": "stderr",
     "output_type": "stream",
     "text": [
      "Using TensorFlow backend.\n"
     ]
    }
   ],
   "source": [
    "import os\n",
    "import sys\n",
    "sys.path.append('common')\n",
    "import util, audio_preprocessing\n",
    "\n",
    "import shutil\n",
    "import numpy as np\n",
    "import keras\n",
    "import keras.backend as K\n",
    "from keras.callbacks import ModelCheckpoint, Callback, TensorBoard\n",
    "from matplotlib import pyplot as plt\n",
    "%matplotlib inline\n",
    "from cyclic_lr import CyclicLR\n",
    "\n",
    "from dataset import SingleDataset, MultiDataset\n",
    "from model import model_mlt_cnn_alexnet\n",
    "\n",
    "TRY = 'MIX7'\n",
    "BASE = 'MIX4'\n",
    "LOG_DIR = './%slog' % TRY\n",
    "SCD_PREFIX = 'scd_'\n",
    "USD_PREFIX = 'usd_'\n",
    "\n",
    "batch_size = 32\n",
    "epochs = 20\n",
    "\n",
    "scd = SingleDataset(SCD_PREFIX,\n",
    "                   util.load_txt_list(os.path.join('.', SCD_PREFIX+'classes.txt')),\n",
    "                   batch_size)\n",
    "usd = SingleDataset(USD_PREFIX,\n",
    "                   ['air_conditioner',  'car_horn', 'children_playing', 'dog_bark', 'drilling',\n",
    "                    'engine_idling', 'gun_shot','jackhammer', 'siren', 'street_music'],\n",
    "                   batch_size)"
   ]
  },
  {
   "cell_type": "code",
   "execution_count": 2,
   "metadata": {
    "collapsed": true
   },
   "outputs": [],
   "source": [
    "# Clean up log\n",
    "shutil.rmtree(LOG_DIR, ignore_errors=True)"
   ]
  },
  {
   "cell_type": "code",
   "execution_count": 3,
   "metadata": {
    "scrolled": true
   },
   "outputs": [
    {
     "name": "stdout",
     "output_type": "stream",
     "text": [
      "model_mlt_cnn_alexnet: freeze other than output_1.\n",
      "Epoch 1/20\n",
      "1595/1596 [============================>.] - ETA: 0s - loss: 1.8473 - output_1_loss: 1.8675 - output_2_loss: -0.0202 - output_1_acc: 0.6884 - output_2_acc: 0.1358\n",
      "Epoch 00001: val_output_1_acc improved from -inf to 0.90152, saving model to modelMIX7.h5\n",
      "1596/1596 [==============================] - 72s 45ms/step - loss: 1.8476 - output_1_loss: 1.8677 - output_2_loss: -0.0200 - output_1_acc: 0.6884 - output_2_acc: 0.1357 - val_loss: 0.3758 - val_output_1_loss: 0.3757 - val_output_2_loss: 9.7660e-05 - val_output_1_acc: 0.9015 - val_output_2_acc: 0.0896\n",
      "Epoch 2/20\n",
      "1595/1596 [============================>.] - ETA: 0s - loss: 1.8680 - output_1_loss: 1.8710 - output_2_loss: -0.0029 - output_1_acc: 0.6920 - output_2_acc: 0.1371\n",
      "Epoch 00002: val_output_1_acc did not improve\n",
      "1596/1596 [==============================] - 71s 45ms/step - loss: 1.8682 - output_1_loss: 1.8711 - output_2_loss: -0.0029 - output_1_acc: 0.6920 - output_2_acc: 0.1371 - val_loss: 0.3808 - val_output_1_loss: 0.3814 - val_output_2_loss: -6.0089e-04 - val_output_1_acc: 0.8975 - val_output_2_acc: 0.0812\n",
      "Epoch 3/20\n",
      "1595/1596 [============================>.] - ETA: 0s - loss: 1.8354 - output_1_loss: 1.8551 - output_2_loss: -0.0197 - output_1_acc: 0.6926 - output_2_acc: 0.1377\n",
      "Epoch 00003: val_output_1_acc improved from 0.90152 to 0.90575, saving model to modelMIX7.h5\n",
      "1596/1596 [==============================] - 71s 45ms/step - loss: 1.8349 - output_1_loss: 1.8550 - output_2_loss: -0.0201 - output_1_acc: 0.6926 - output_2_acc: 0.1377 - val_loss: 0.3612 - val_output_1_loss: 0.3613 - val_output_2_loss: -1.0715e-04 - val_output_1_acc: 0.9058 - val_output_2_acc: 0.0853\n",
      "Epoch 4/20\n",
      "1595/1596 [============================>.] - ETA: 0s - loss: 1.8478 - output_1_loss: 1.8590 - output_2_loss: -0.0112 - output_1_acc: 0.6966 - output_2_acc: 0.1396\n",
      "Epoch 00004: val_output_1_acc did not improve\n",
      "1596/1596 [==============================] - 71s 45ms/step - loss: 1.8475 - output_1_loss: 1.8588 - output_2_loss: -0.0113 - output_1_acc: 0.6967 - output_2_acc: 0.1396 - val_loss: 0.3649 - val_output_1_loss: 0.3720 - val_output_2_loss: -0.0071 - val_output_1_acc: 0.8998 - val_output_2_acc: 0.0919\n",
      "Epoch 5/20\n",
      "1595/1596 [============================>.] - ETA: 0s - loss: 1.8561 - output_1_loss: 1.8686 - output_2_loss: -0.0126 - output_1_acc: 0.6891 - output_2_acc: 0.1361\n",
      "Epoch 00005: val_output_1_acc did not improve\n",
      "1596/1596 [==============================] - 71s 45ms/step - loss: 1.8567 - output_1_loss: 1.8690 - output_2_loss: -0.0123 - output_1_acc: 0.6891 - output_2_acc: 0.1361 - val_loss: 0.3539 - val_output_1_loss: 0.3691 - val_output_2_loss: -0.0152 - val_output_1_acc: 0.9040 - val_output_2_acc: 0.0889\n",
      "Epoch 6/20\n",
      "1595/1596 [============================>.] - ETA: 0s - loss: 1.8445 - output_1_loss: 1.8581 - output_2_loss: -0.0135 - output_1_acc: 0.6933 - output_2_acc: 0.1367\n",
      "Epoch 00006: val_output_1_acc did not improve\n",
      "1596/1596 [==============================] - 71s 45ms/step - loss: 1.8447 - output_1_loss: 1.8580 - output_2_loss: -0.0133 - output_1_acc: 0.6934 - output_2_acc: 0.1367 - val_loss: 0.3723 - val_output_1_loss: 0.3819 - val_output_2_loss: -0.0096 - val_output_1_acc: 0.8955 - val_output_2_acc: 0.0865\n",
      "Epoch 7/20\n",
      "1595/1596 [============================>.] - ETA: 0s - loss: 1.8550 - output_1_loss: 1.8638 - output_2_loss: -0.0088 - output_1_acc: 0.6920 - output_2_acc: 0.1377\n",
      "Epoch 00007: val_output_1_acc improved from 0.90575 to 0.90883, saving model to modelMIX7.h5\n",
      "1596/1596 [==============================] - 71s 45ms/step - loss: 1.8554 - output_1_loss: 1.8640 - output_2_loss: -0.0086 - output_1_acc: 0.6921 - output_2_acc: 0.1376 - val_loss: 0.3514 - val_output_1_loss: 0.3506 - val_output_2_loss: 7.7694e-04 - val_output_1_acc: 0.9088 - val_output_2_acc: 0.0909\n",
      "Epoch 8/20\n",
      "1594/1596 [============================>.] - ETA: 0s - loss: 1.8511 - output_1_loss: 1.8586 - output_2_loss: -0.0075 - output_1_acc: 0.6930 - output_2_acc: 0.1399\n",
      "Epoch 00008: val_output_1_acc did not improve\n",
      "1596/1596 [==============================] - 71s 45ms/step - loss: 1.8513 - output_1_loss: 1.8588 - output_2_loss: -0.0076 - output_1_acc: 0.6929 - output_2_acc: 0.1400 - val_loss: 0.3633 - val_output_1_loss: 0.3659 - val_output_2_loss: -0.0027 - val_output_1_acc: 0.9031 - val_output_2_acc: 0.0871\n",
      "Epoch 9/20\n",
      "1594/1596 [============================>.] - ETA: 0s - loss: 1.8518 - output_1_loss: 1.8615 - output_2_loss: -0.0097 - output_1_acc: 0.6920 - output_2_acc: 0.1382\n",
      "Epoch 00009: val_output_1_acc did not improve\n",
      "1596/1596 [==============================] - 71s 45ms/step - loss: 1.8519 - output_1_loss: 1.8615 - output_2_loss: -0.0096 - output_1_acc: 0.6921 - output_2_acc: 0.1383 - val_loss: 0.3677 - val_output_1_loss: 0.3726 - val_output_2_loss: -0.0049 - val_output_1_acc: 0.8983 - val_output_2_acc: 0.0873\n",
      "Epoch 10/20\n",
      "1594/1596 [============================>.] - ETA: 0s - loss: 1.8702 - output_1_loss: 1.8668 - output_2_loss: 0.0035 - output_1_acc: 0.6922 - output_2_acc: 0.1369\n",
      "Epoch 00010: val_output_1_acc did not improve\n",
      "1596/1596 [==============================] - 71s 45ms/step - loss: 1.8696 - output_1_loss: 1.8665 - output_2_loss: 0.0031 - output_1_acc: 0.6922 - output_2_acc: 0.1369 - val_loss: 0.3571 - val_output_1_loss: 0.3598 - val_output_2_loss: -0.0026 - val_output_1_acc: 0.9029 - val_output_2_acc: 0.0855\n",
      "Epoch 11/20\n",
      "1595/1596 [============================>.] - ETA: 0s - loss: 1.8315 - output_1_loss: 1.8501 - output_2_loss: -0.0186 - output_1_acc: 0.6942 - output_2_acc: 0.1370\n",
      "Epoch 00011: val_output_1_acc did not improve\n",
      "1596/1596 [==============================] - 71s 45ms/step - loss: 1.8315 - output_1_loss: 1.8501 - output_2_loss: -0.0186 - output_1_acc: 0.6943 - output_2_acc: 0.1370 - val_loss: 0.3477 - val_output_1_loss: 0.3645 - val_output_2_loss: -0.0168 - val_output_1_acc: 0.9019 - val_output_2_acc: 0.0959\n",
      "Epoch 12/20\n",
      "1595/1596 [============================>.] - ETA: 0s - loss: 1.8322 - output_1_loss: 1.8492 - output_2_loss: -0.0170 - output_1_acc: 0.6947 - output_2_acc: 0.1369\n",
      "Epoch 00012: val_output_1_acc did not improve\n",
      "1596/1596 [==============================] - 71s 45ms/step - loss: 1.8329 - output_1_loss: 1.8496 - output_2_loss: -0.0167 - output_1_acc: 0.6947 - output_2_acc: 0.1369 - val_loss: 0.3618 - val_output_1_loss: 0.3680 - val_output_2_loss: -0.0062 - val_output_1_acc: 0.9052 - val_output_2_acc: 0.0844\n",
      "Epoch 13/20\n",
      "1595/1596 [============================>.] - ETA: 0s - loss: 1.8361 - output_1_loss: 1.8503 - output_2_loss: -0.0142 - output_1_acc: 0.6970 - output_2_acc: 0.1362\n",
      "Epoch 00013: val_output_1_acc did not improve\n",
      "1596/1596 [==============================] - 71s 45ms/step - loss: 1.8362 - output_1_loss: 1.8504 - output_2_loss: -0.0141 - output_1_acc: 0.6969 - output_2_acc: 0.1362 - val_loss: 0.3748 - val_output_1_loss: 0.3845 - val_output_2_loss: -0.0097 - val_output_1_acc: 0.8950 - val_output_2_acc: 0.0909\n",
      "Epoch 14/20\n",
      "1595/1596 [============================>.] - ETA: 0s - loss: 1.8321 - output_1_loss: 1.8514 - output_2_loss: -0.0194 - output_1_acc: 0.6926 - output_2_acc: 0.1373\n",
      "Epoch 00014: val_output_1_acc did not improve\n",
      "1596/1596 [==============================] - 71s 45ms/step - loss: 1.8323 - output_1_loss: 1.8515 - output_2_loss: -0.0192 - output_1_acc: 0.6927 - output_2_acc: 0.1372 - val_loss: 0.3434 - val_output_1_loss: 0.3479 - val_output_2_loss: -0.0045 - val_output_1_acc: 0.9056 - val_output_2_acc: 0.0883\n",
      "Epoch 15/20\n",
      "1594/1596 [============================>.] - ETA: 0s - loss: 1.8409 - output_1_loss: 1.8487 - output_2_loss: -0.0079 - output_1_acc: 0.6924 - output_2_acc: 0.1367\n",
      "Epoch 00015: val_output_1_acc did not improve\n",
      "1596/1596 [==============================] - 71s 45ms/step - loss: 1.8402 - output_1_loss: 1.8484 - output_2_loss: -0.0082 - output_1_acc: 0.6924 - output_2_acc: 0.1367 - val_loss: 0.3639 - val_output_1_loss: 0.3720 - val_output_2_loss: -0.0081 - val_output_1_acc: 0.9013 - val_output_2_acc: 0.0841\n",
      "Epoch 16/20\n",
      "1594/1596 [============================>.] - ETA: 0s - loss: 1.8236 - output_1_loss: 1.8456 - output_2_loss: -0.0220 - output_1_acc: 0.6949 - output_2_acc: 0.1357\n",
      "Epoch 00016: val_output_1_acc did not improve\n",
      "1596/1596 [==============================] - 71s 45ms/step - loss: 1.8242 - output_1_loss: 1.8458 - output_2_loss: -0.0216 - output_1_acc: 0.6950 - output_2_acc: 0.1358 - val_loss: 0.3781 - val_output_1_loss: 0.3746 - val_output_2_loss: 0.0036 - val_output_1_acc: 0.8975 - val_output_2_acc: 0.0886\n"
     ]
    },
    {
     "name": "stdout",
     "output_type": "stream",
     "text": [
      "Epoch 17/20\n",
      "1594/1596 [============================>.] - ETA: 0s - loss: 1.8275 - output_1_loss: 1.8410 - output_2_loss: -0.0134 - output_1_acc: 0.6990 - output_2_acc: 0.1366\n",
      "Epoch 00017: val_output_1_acc did not improve\n",
      "1596/1596 [==============================] - 71s 45ms/step - loss: 1.8273 - output_1_loss: 1.8409 - output_2_loss: -0.0136 - output_1_acc: 0.6991 - output_2_acc: 0.1366 - val_loss: 0.3698 - val_output_1_loss: 0.3736 - val_output_2_loss: -0.0038 - val_output_1_acc: 0.9007 - val_output_2_acc: 0.0868\n",
      "Epoch 18/20\n",
      "1595/1596 [============================>.] - ETA: 0s - loss: 1.8444 - output_1_loss: 1.8507 - output_2_loss: -0.0063 - output_1_acc: 0.6972 - output_2_acc: 0.1388\n",
      "Epoch 00018: val_output_1_acc did not improve\n",
      "1596/1596 [==============================] - 71s 45ms/step - loss: 1.8447 - output_1_loss: 1.8509 - output_2_loss: -0.0062 - output_1_acc: 0.6972 - output_2_acc: 0.1388 - val_loss: 0.3469 - val_output_1_loss: 0.3612 - val_output_2_loss: -0.0143 - val_output_1_acc: 0.9007 - val_output_2_acc: 0.0901\n",
      "Epoch 19/20\n",
      "1595/1596 [============================>.] - ETA: 0s - loss: 1.8544 - output_1_loss: 1.8560 - output_2_loss: -0.0017 - output_1_acc: 0.6943 - output_2_acc: 0.1382\n",
      "Epoch 00019: val_output_1_acc did not improve\n",
      "1596/1596 [==============================] - 71s 45ms/step - loss: 1.8541 - output_1_loss: 1.8559 - output_2_loss: -0.0019 - output_1_acc: 0.6943 - output_2_acc: 0.1383 - val_loss: 0.3680 - val_output_1_loss: 0.3676 - val_output_2_loss: 4.0795e-04 - val_output_1_acc: 0.9037 - val_output_2_acc: 0.0860\n",
      "Epoch 20/20\n",
      "1594/1596 [============================>.] - ETA: 0s - loss: 1.8474 - output_1_loss: 1.8601 - output_2_loss: -0.0127 - output_1_acc: 0.6908 - output_2_acc: 0.1360\n",
      "Epoch 00020: val_output_1_acc did not improve\n",
      "1596/1596 [==============================] - 71s 45ms/step - loss: 1.8467 - output_1_loss: 1.8598 - output_2_loss: -0.0131 - output_1_acc: 0.6909 - output_2_acc: 0.1361 - val_loss: 0.3729 - val_output_1_loss: 0.3749 - val_output_2_loss: -0.0020 - val_output_1_acc: 0.8969 - val_output_2_acc: 0.0918\n",
      "Evaluating scd_dataset\n",
      "6798/6798 [==============================] - 10s 1ms/step\n",
      " = 0.9040894380700206\n",
      "Evaluating usd_dataset\n",
      "990/990 [==============================] - 1s 1ms/step\n",
      " = 0.5818181818181818\n",
      "Accuracy with scd_dataset = 0.904089\n",
      "Accuracy with usd_dataset = 0.581818\n",
      "model_mlt_cnn_alexnet: freeze other than output_2.\n",
      "Epoch 1/20\n",
      "1594/1596 [============================>.] - ETA: 0s - loss: 1.2666 - output_1_loss: 0.0062 - output_2_loss: 1.2605 - output_1_acc: 0.0417 - output_2_acc: 0.7247\n",
      "Epoch 00001: val_output_2_acc improved from -inf to 0.58359, saving model to modelMIX7.h5\n",
      "1596/1596 [==============================] - 72s 45ms/step - loss: 1.2662 - output_1_loss: 0.0058 - output_2_loss: 1.2604 - output_1_acc: 0.0417 - output_2_acc: 0.7247 - val_loss: 1.5145 - val_output_1_loss: 0.0032 - val_output_2_loss: 1.5113 - val_output_1_acc: 0.0331 - val_output_2_acc: 0.5836\n",
      "Epoch 2/20\n",
      "1595/1596 [============================>.] - ETA: 0s - loss: 1.2636 - output_1_loss: 0.0144 - output_2_loss: 1.2492 - output_1_acc: 0.0416 - output_2_acc: 0.7295\n",
      "Epoch 00002: val_output_2_acc improved from 0.58359 to 0.58629, saving model to modelMIX7.h5\n",
      "1596/1596 [==============================] - 71s 45ms/step - loss: 1.2629 - output_1_loss: 0.0139 - output_2_loss: 1.2490 - output_1_acc: 0.0415 - output_2_acc: 0.7295 - val_loss: 1.5116 - val_output_1_loss: -0.0057 - val_output_2_loss: 1.5173 - val_output_1_acc: 0.0326 - val_output_2_acc: 0.5863\n",
      "Epoch 3/20\n",
      "1594/1596 [============================>.] - ETA: 0s - loss: 1.1965 - output_1_loss: -0.0280 - output_2_loss: 1.2244 - output_1_acc: 0.0410 - output_2_acc: 0.7340\n",
      "Epoch 00003: val_output_2_acc improved from 0.58629 to 0.59091, saving model to modelMIX7.h5\n",
      "1596/1596 [==============================] - 71s 45ms/step - loss: 1.1965 - output_1_loss: -0.0280 - output_2_loss: 1.2244 - output_1_acc: 0.0410 - output_2_acc: 0.7340 - val_loss: 1.5003 - val_output_1_loss: -0.0086 - val_output_2_loss: 1.5089 - val_output_1_acc: 0.0298 - val_output_2_acc: 0.5909\n",
      "Epoch 4/20\n",
      "1594/1596 [============================>.] - ETA: 0s - loss: 1.2297 - output_1_loss: -9.4375e-04 - output_2_loss: 1.2306 - output_1_acc: 0.0432 - output_2_acc: 0.7326\n",
      "Epoch 00004: val_output_2_acc improved from 0.59091 to 0.59322, saving model to modelMIX7.h5\n",
      "1596/1596 [==============================] - 72s 45ms/step - loss: 1.2309 - output_1_loss: -1.2978e-04 - output_2_loss: 1.2310 - output_1_acc: 0.0433 - output_2_acc: 0.7325 - val_loss: 1.5467 - val_output_1_loss: 0.0018 - val_output_2_loss: 1.5449 - val_output_1_acc: 0.0297 - val_output_2_acc: 0.5932\n",
      "Epoch 5/20\n",
      "1594/1596 [============================>.] - ETA: 0s - loss: 1.2275 - output_1_loss: -0.0019 - output_2_loss: 1.2294 - output_1_acc: 0.0412 - output_2_acc: 0.7330\n",
      "Epoch 00005: val_output_2_acc improved from 0.59322 to 0.59515, saving model to modelMIX7.h5\n",
      "1596/1596 [==============================] - 72s 45ms/step - loss: 1.2271 - output_1_loss: -0.0021 - output_2_loss: 1.2293 - output_1_acc: 0.0412 - output_2_acc: 0.7331 - val_loss: 1.5047 - val_output_1_loss: -0.0048 - val_output_2_loss: 1.5095 - val_output_1_acc: 0.0307 - val_output_2_acc: 0.5951\n",
      "Epoch 6/20\n",
      "1595/1596 [============================>.] - ETA: 0s - loss: 1.1942 - output_1_loss: -0.0237 - output_2_loss: 1.2180 - output_1_acc: 0.0397 - output_2_acc: 0.7334\n",
      "Epoch 00006: val_output_2_acc did not improve\n",
      "1596/1596 [==============================] - 71s 45ms/step - loss: 1.1946 - output_1_loss: -0.0234 - output_2_loss: 1.2181 - output_1_acc: 0.0397 - output_2_acc: 0.7334 - val_loss: 1.5635 - val_output_1_loss: -0.0043 - val_output_2_loss: 1.5678 - val_output_1_acc: 0.0321 - val_output_2_acc: 0.5831\n",
      "Epoch 7/20\n",
      "1594/1596 [============================>.] - ETA: 0s - loss: 1.2197 - output_1_loss: -0.0047 - output_2_loss: 1.2244 - output_1_acc: 0.0399 - output_2_acc: 0.7308\n",
      "Epoch 00007: val_output_2_acc did not improve\n",
      "1596/1596 [==============================] - 72s 45ms/step - loss: 1.2189 - output_1_loss: -0.0052 - output_2_loss: 1.2241 - output_1_acc: 0.0399 - output_2_acc: 0.7309 - val_loss: 1.6668 - val_output_1_loss: 0.0080 - val_output_2_loss: 1.6589 - val_output_1_acc: 0.0394 - val_output_2_acc: 0.5750\n",
      "Epoch 8/20\n",
      "1595/1596 [============================>.] - ETA: 0s - loss: 1.1995 - output_1_loss: -0.0215 - output_2_loss: 1.2210 - output_1_acc: 0.0419 - output_2_acc: 0.7335\n",
      "Epoch 00008: val_output_2_acc did not improve\n",
      "1596/1596 [==============================] - 71s 45ms/step - loss: 1.1999 - output_1_loss: -0.0212 - output_2_loss: 1.2211 - output_1_acc: 0.0419 - output_2_acc: 0.7336 - val_loss: 1.5742 - val_output_1_loss: 0.0036 - val_output_2_loss: 1.5706 - val_output_1_acc: 0.0293 - val_output_2_acc: 0.5824\n",
      "Epoch 9/20\n",
      "1594/1596 [============================>.] - ETA: 0s - loss: 1.2031 - output_1_loss: -0.0110 - output_2_loss: 1.2142 - output_1_acc: 0.0427 - output_2_acc: 0.7358\n",
      "Epoch 00009: val_output_2_acc improved from 0.59515 to 0.59527, saving model to modelMIX7.h5\n",
      "1596/1596 [==============================] - 72s 45ms/step - loss: 1.2034 - output_1_loss: -0.0108 - output_2_loss: 1.2141 - output_1_acc: 0.0428 - output_2_acc: 0.7358 - val_loss: 1.5490 - val_output_1_loss: -0.0013 - val_output_2_loss: 1.5503 - val_output_1_acc: 0.0245 - val_output_2_acc: 0.5953\n",
      "Epoch 10/20\n",
      "1594/1596 [============================>.] - ETA: 0s - loss: 1.2234 - output_1_loss: 0.0026 - output_2_loss: 1.2208 - output_1_acc: 0.0427 - output_2_acc: 0.7335\n",
      "Epoch 00010: val_output_2_acc did not improve\n",
      "1596/1596 [==============================] - 71s 45ms/step - loss: 1.2234 - output_1_loss: 0.0025 - output_2_loss: 1.2209 - output_1_acc: 0.0427 - output_2_acc: 0.7335 - val_loss: 1.6163 - val_output_1_loss: 0.0089 - val_output_2_loss: 1.6074 - val_output_1_acc: 0.0288 - val_output_2_acc: 0.5829\n",
      "Epoch 11/20\n",
      "1594/1596 [============================>.] - ETA: 0s - loss: 1.2183 - output_1_loss: -0.0030 - output_2_loss: 1.2214 - output_1_acc: 0.0408 - output_2_acc: 0.7340\n",
      "Epoch 00011: val_output_2_acc did not improve\n",
      "1596/1596 [==============================] - 72s 45ms/step - loss: 1.2187 - output_1_loss: -0.0027 - output_2_loss: 1.2214 - output_1_acc: 0.0408 - output_2_acc: 0.7341 - val_loss: 1.5149 - val_output_1_loss: -0.0054 - val_output_2_loss: 1.5203 - val_output_1_acc: 0.0308 - val_output_2_acc: 0.5908\n"
     ]
    },
    {
     "name": "stdout",
     "output_type": "stream",
     "text": [
      "Epoch 12/20\n",
      "1595/1596 [============================>.] - ETA: 0s - loss: 1.1861 - output_1_loss: -0.0276 - output_2_loss: 1.2138 - output_1_acc: 0.0406 - output_2_acc: 0.7348\n",
      "Epoch 00012: val_output_2_acc did not improve\n",
      "1596/1596 [==============================] - 71s 45ms/step - loss: 1.1866 - output_1_loss: -0.0274 - output_2_loss: 1.2140 - output_1_acc: 0.0406 - output_2_acc: 0.7348 - val_loss: 1.5731 - val_output_1_loss: 0.0107 - val_output_2_loss: 1.5624 - val_output_1_acc: 0.0313 - val_output_2_acc: 0.5885\n",
      "Epoch 13/20\n",
      "1595/1596 [============================>.] - ETA: 0s - loss: 1.2023 - output_1_loss: -0.0140 - output_2_loss: 1.2163 - output_1_acc: 0.0411 - output_2_acc: 0.7346\n",
      "Epoch 00013: val_output_2_acc did not improve\n",
      "1596/1596 [==============================] - 72s 45ms/step - loss: 1.2023 - output_1_loss: -0.0139 - output_2_loss: 1.2162 - output_1_acc: 0.0411 - output_2_acc: 0.7345 - val_loss: 1.5491 - val_output_1_loss: -0.0018 - val_output_2_loss: 1.5509 - val_output_1_acc: 0.0360 - val_output_2_acc: 0.5912\n",
      "Epoch 14/20\n",
      "1594/1596 [============================>.] - ETA: 0s - loss: 1.2395 - output_1_loss: 0.0103 - output_2_loss: 1.2292 - output_1_acc: 0.0409 - output_2_acc: 0.7325\n",
      "Epoch 00014: val_output_2_acc improved from 0.59527 to 0.59759, saving model to modelMIX7.h5\n",
      "1596/1596 [==============================] - 71s 45ms/step - loss: 1.2398 - output_1_loss: 0.0105 - output_2_loss: 1.2292 - output_1_acc: 0.0410 - output_2_acc: 0.7325 - val_loss: 1.5398 - val_output_1_loss: -0.0019 - val_output_2_loss: 1.5417 - val_output_1_acc: 0.0348 - val_output_2_acc: 0.5976\n",
      "Epoch 15/20\n",
      "1594/1596 [============================>.] - ETA: 0s - loss: 1.2173 - output_1_loss: -0.0020 - output_2_loss: 1.2193 - output_1_acc: 0.0438 - output_2_acc: 0.7378\n",
      "Epoch 00015: val_output_2_acc did not improve\n",
      "1596/1596 [==============================] - 71s 45ms/step - loss: 1.2166 - output_1_loss: -0.0026 - output_2_loss: 1.2192 - output_1_acc: 0.0437 - output_2_acc: 0.7378 - val_loss: 1.6080 - val_output_1_loss: 0.0035 - val_output_2_loss: 1.6046 - val_output_1_acc: 0.0293 - val_output_2_acc: 0.5862\n",
      "Epoch 16/20\n",
      "1594/1596 [============================>.] - ETA: 0s - loss: 1.2121 - output_1_loss: -0.0072 - output_2_loss: 1.2193 - output_1_acc: 0.0409 - output_2_acc: 0.7320\n",
      "Epoch 00016: val_output_2_acc did not improve\n",
      "1596/1596 [==============================] - 72s 45ms/step - loss: 1.2128 - output_1_loss: -0.0066 - output_2_loss: 1.2193 - output_1_acc: 0.0409 - output_2_acc: 0.7320 - val_loss: 1.5873 - val_output_1_loss: 0.0015 - val_output_2_loss: 1.5857 - val_output_1_acc: 0.0279 - val_output_2_acc: 0.5844\n",
      "Epoch 17/20\n",
      "1595/1596 [============================>.] - ETA: 0s - loss: 1.2300 - output_1_loss: 0.0044 - output_2_loss: 1.2256 - output_1_acc: 0.0419 - output_2_acc: 0.7336\n",
      "Epoch 00017: val_output_2_acc did not improve\n",
      "1596/1596 [==============================] - 72s 45ms/step - loss: 1.2294 - output_1_loss: 0.0039 - output_2_loss: 1.2255 - output_1_acc: 0.0419 - output_2_acc: 0.7336 - val_loss: 1.5781 - val_output_1_loss: 0.0036 - val_output_2_loss: 1.5746 - val_output_1_acc: 0.0313 - val_output_2_acc: 0.5844\n",
      "Epoch 18/20\n",
      "1595/1596 [============================>.] - ETA: 0s - loss: 1.2344 - output_1_loss: 0.0087 - output_2_loss: 1.2256 - output_1_acc: 0.0418 - output_2_acc: 0.7329\n",
      "Epoch 00018: val_output_2_acc did not improve\n",
      "1596/1596 [==============================] - 72s 45ms/step - loss: 1.2341 - output_1_loss: 0.0084 - output_2_loss: 1.2257 - output_1_acc: 0.0417 - output_2_acc: 0.7329 - val_loss: 1.5933 - val_output_1_loss: -0.0035 - val_output_2_loss: 1.5968 - val_output_1_acc: 0.0334 - val_output_2_acc: 0.5832\n",
      "Epoch 19/20\n",
      "1595/1596 [============================>.] - ETA: 0s - loss: 1.2136 - output_1_loss: -0.0030 - output_2_loss: 1.2166 - output_1_acc: 0.0428 - output_2_acc: 0.7363\n",
      "Epoch 00019: val_output_2_acc did not improve\n",
      "1596/1596 [==============================] - 71s 45ms/step - loss: 1.2142 - output_1_loss: -0.0026 - output_2_loss: 1.2168 - output_1_acc: 0.0428 - output_2_acc: 0.7364 - val_loss: 1.6424 - val_output_1_loss: 0.0045 - val_output_2_loss: 1.6379 - val_output_1_acc: 0.0325 - val_output_2_acc: 0.5763\n",
      "Epoch 20/20\n",
      "1595/1596 [============================>.] - ETA: 0s - loss: 1.2134 - output_1_loss: -0.0022 - output_2_loss: 1.2156 - output_1_acc: 0.0417 - output_2_acc: 0.7363\n",
      "Epoch 00020: val_output_2_acc did not improve\n",
      "1596/1596 [==============================] - 71s 45ms/step - loss: 1.2141 - output_1_loss: -0.0018 - output_2_loss: 1.2158 - output_1_acc: 0.0417 - output_2_acc: 0.7362 - val_loss: 1.5821 - val_output_1_loss: 0.0015 - val_output_2_loss: 1.5807 - val_output_1_acc: 0.0408 - val_output_2_acc: 0.5767\n",
      "Evaluating scd_dataset\n",
      "6798/6798 [==============================] - 10s 1ms/step\n",
      " = 0.9049720506031186\n",
      "Evaluating usd_dataset\n",
      "990/990 [==============================] - 1s 1ms/step\n",
      " = 0.5797979797979798\n",
      "Accuracy with scd_dataset = 0.904972\n",
      "Accuracy with usd_dataset = 0.579798\n"
     ]
    },
    {
     "data": {
      "text/plain": [
       "[0.9049720506031186, 0.5797979797979798]"
      ]
     },
     "execution_count": 3,
     "metadata": {},
     "output_type": "execute_result"
    }
   ],
   "source": [
    "# Fine tune for scd\n",
    "multi = MultiDataset([scd, usd], [1.0, 0.0])\n",
    "\n",
    "model = model_mlt_cnn_alexnet(multi.input_shape(), multi.ys_classes(), freeze_mode=1)\n",
    "model.compile(loss='categorical_crossentropy',\n",
    "              optimizer=keras.optimizers.Adam(lr=0.0001),\n",
    "              metrics=['accuracy'])\n",
    "model.load_weights('model%s.h5' % BASE) ### Starting point\n",
    "\n",
    "callbacks = [\n",
    "    CyclicLR(base_lr=0.00007, max_lr=0.0007, step_size=multi.train_steps_per_epoch, mode='triangular'),\n",
    "    ModelCheckpoint('model%s.h5' % TRY,\n",
    "                monitor='val_output_1_acc',\n",
    "                verbose=1,\n",
    "                save_best_only=True,\n",
    "                save_weights_only=True),\n",
    "     keras.callbacks.TensorBoard(log_dir=LOG_DIR, histogram_freq=0, write_graph=True, write_images=True)\n",
    "]\n",
    "model.fit_generator(multi.train_generator,\n",
    "                    steps_per_epoch=multi.train_steps_per_epoch,\n",
    "                    epochs=epochs,\n",
    "                    validation_data=multi.valid_generator, \n",
    "                    validation_steps=multi.valid_steps_per_epoch,\n",
    "                    callbacks=callbacks)\n",
    "\n",
    "multi.evaluate_by_datasets(model)\n",
    "\n",
    "# Fine tune for usd\n",
    "multi = MultiDataset([scd, usd], [0.0, 1.0])\n",
    "\n",
    "model = model_mlt_cnn_alexnet(multi.input_shape(), multi.ys_classes(), freeze_mode=2)\n",
    "model.compile(loss='categorical_crossentropy',\n",
    "              optimizer=keras.optimizers.Adam(lr=0.0001),\n",
    "              metrics=['accuracy'])\n",
    "model.load_weights('model%s.h5' % TRY)\n",
    "\n",
    "callbacks = [\n",
    "    CyclicLR(base_lr=0.00007, max_lr=0.0007, step_size=multi.train_steps_per_epoch, mode='triangular'),\n",
    "    ModelCheckpoint('model%s.h5' % TRY,\n",
    "                monitor='val_output_2_acc',\n",
    "                verbose=1,\n",
    "                save_best_only=True,\n",
    "                save_weights_only=True),\n",
    "     keras.callbacks.TensorBoard(log_dir=LOG_DIR, histogram_freq=0, write_graph=True, write_images=True)\n",
    "]\n",
    "model.fit_generator(multi.train_generator,\n",
    "                    steps_per_epoch=multi.train_steps_per_epoch,\n",
    "                    epochs=epochs,\n",
    "                    validation_data=multi.valid_generator, \n",
    "                    validation_steps=multi.valid_steps_per_epoch,\n",
    "                    callbacks=callbacks)\n",
    "\n",
    "multi.evaluate_by_datasets(model)"
   ]
  },
  {
   "cell_type": "markdown",
   "metadata": {},
   "source": [
    "## Evaluate per dataset"
   ]
  },
  {
   "cell_type": "code",
   "execution_count": 4,
   "metadata": {},
   "outputs": [
    {
     "name": "stdout",
     "output_type": "stream",
     "text": [
      "Evaluating scd_dataset\n",
      "6798/6798 [==============================] - 10s 2ms/step\n",
      " = 0.9049720506031186\n",
      "Evaluating usd_dataset\n",
      "990/990 [==============================] - 1s 1ms/step\n",
      " = 0.591919191919192\n",
      "Accuracy with scd_dataset = 0.904972\n",
      "Accuracy with usd_dataset = 0.591919\n"
     ]
    },
    {
     "data": {
      "text/plain": [
       "[0.9049720506031186, 0.591919191919192]"
      ]
     },
     "execution_count": 4,
     "metadata": {},
     "output_type": "execute_result"
    }
   ],
   "source": [
    "model.load_weights('model%s.h5' % TRY)\n",
    "multi.evaluate_by_datasets(model)"
   ]
  },
  {
   "cell_type": "markdown",
   "metadata": {},
   "source": [
    "## Evaluate by mixed dataset"
   ]
  },
  {
   "cell_type": "code",
   "execution_count": 5,
   "metadata": {},
   "outputs": [
    {
     "name": "stdout",
     "output_type": "stream",
     "text": [
      "['loss', 'output_1_loss', 'output_2_loss', 'output_1_acc', 'output_2_acc'] [1.1464911148910668, 0.36378889193606617, 0.7827022227502722, 0.8215202876219826, 0.5174627632254751]\n"
     ]
    }
   ],
   "source": [
    "model.load_weights('model%s.h5' % TRY)\n",
    "multi = MultiDataset([scd, usd], [0.5, 0.5])\n",
    "results = model.evaluate_generator(multi.valid_generator, steps=multi.valid_steps_per_epoch)\n",
    "print(model.metrics_names, results)"
   ]
  },
  {
   "cell_type": "code",
   "execution_count": null,
   "metadata": {
    "collapsed": true
   },
   "outputs": [],
   "source": []
  }
 ],
 "metadata": {
  "kernelspec": {
   "display_name": "Python 3",
   "language": "python",
   "name": "python3"
  },
  "language_info": {
   "codemirror_mode": {
    "name": "ipython",
    "version": 3
   },
   "file_extension": ".py",
   "mimetype": "text/x-python",
   "name": "python",
   "nbconvert_exporter": "python",
   "pygments_lexer": "ipython3",
   "version": "3.6.2"
  }
 },
 "nbformat": 4,
 "nbformat_minor": 2
}
